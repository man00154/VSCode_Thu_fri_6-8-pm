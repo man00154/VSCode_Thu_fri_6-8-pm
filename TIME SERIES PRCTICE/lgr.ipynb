{
 "cells": [
  {
   "cell_type": "code",
   "execution_count": 5,
   "metadata": {},
   "outputs": [
    {
     "name": "stdout",
     "output_type": "stream",
     "text": [
      "Predicted sales for 01-01-2023: Increase\n",
      "Predicted sales for 02-01-2023: Increase\n",
      "Predicted sales for 03-01-2023: Increase\n",
      "Predicted sales for 04-01-2023: Increase\n",
      "Predicted sales for 05-01-2023: Increase\n",
      "Predicted sales for 06-01-2023: Increase\n",
      "Predicted sales for 07-01-2023: Increase\n",
      "Predicted sales for 08-01-2023: Increase\n",
      "Predicted sales for 09-01-2023: Increase\n",
      "Predicted sales for 10-01-2023: Increase\n"
     ]
    },
    {
     "name": "stderr",
     "output_type": "stream",
     "text": [
      "c:\\Users\\Ashutosh\\Downloads\\Wakad Thu Fri 6 8\\repository\\venv\\Lib\\site-packages\\sklearn\\linear_model\\_logistic.py:460: ConvergenceWarning: lbfgs failed to converge (status=1):\n",
      "STOP: TOTAL NO. of ITERATIONS REACHED LIMIT.\n",
      "\n",
      "Increase the number of iterations (max_iter) or scale the data as shown in:\n",
      "    https://scikit-learn.org/stable/modules/preprocessing.html\n",
      "Please also refer to the documentation for alternative solver options:\n",
      "    https://scikit-learn.org/stable/modules/linear_model.html#logistic-regression\n",
      "  n_iter_i = _check_optimize_result(\n",
      "c:\\Users\\Ashutosh\\Downloads\\Wakad Thu Fri 6 8\\repository\\venv\\Lib\\site-packages\\sklearn\\base.py:465: UserWarning: X does not have valid feature names, but LogisticRegression was fitted with feature names\n",
      "  warnings.warn(\n",
      "c:\\Users\\Ashutosh\\Downloads\\Wakad Thu Fri 6 8\\repository\\venv\\Lib\\site-packages\\sklearn\\base.py:465: UserWarning: X does not have valid feature names, but LogisticRegression was fitted with feature names\n",
      "  warnings.warn(\n",
      "c:\\Users\\Ashutosh\\Downloads\\Wakad Thu Fri 6 8\\repository\\venv\\Lib\\site-packages\\sklearn\\base.py:465: UserWarning: X does not have valid feature names, but LogisticRegression was fitted with feature names\n",
      "  warnings.warn(\n",
      "c:\\Users\\Ashutosh\\Downloads\\Wakad Thu Fri 6 8\\repository\\venv\\Lib\\site-packages\\sklearn\\base.py:465: UserWarning: X does not have valid feature names, but LogisticRegression was fitted with feature names\n",
      "  warnings.warn(\n",
      "c:\\Users\\Ashutosh\\Downloads\\Wakad Thu Fri 6 8\\repository\\venv\\Lib\\site-packages\\sklearn\\base.py:465: UserWarning: X does not have valid feature names, but LogisticRegression was fitted with feature names\n",
      "  warnings.warn(\n",
      "c:\\Users\\Ashutosh\\Downloads\\Wakad Thu Fri 6 8\\repository\\venv\\Lib\\site-packages\\sklearn\\base.py:465: UserWarning: X does not have valid feature names, but LogisticRegression was fitted with feature names\n",
      "  warnings.warn(\n",
      "c:\\Users\\Ashutosh\\Downloads\\Wakad Thu Fri 6 8\\repository\\venv\\Lib\\site-packages\\sklearn\\base.py:465: UserWarning: X does not have valid feature names, but LogisticRegression was fitted with feature names\n",
      "  warnings.warn(\n",
      "c:\\Users\\Ashutosh\\Downloads\\Wakad Thu Fri 6 8\\repository\\venv\\Lib\\site-packages\\sklearn\\base.py:465: UserWarning: X does not have valid feature names, but LogisticRegression was fitted with feature names\n",
      "  warnings.warn(\n",
      "c:\\Users\\Ashutosh\\Downloads\\Wakad Thu Fri 6 8\\repository\\venv\\Lib\\site-packages\\sklearn\\base.py:465: UserWarning: X does not have valid feature names, but LogisticRegression was fitted with feature names\n",
      "  warnings.warn(\n",
      "c:\\Users\\Ashutosh\\Downloads\\Wakad Thu Fri 6 8\\repository\\venv\\Lib\\site-packages\\sklearn\\base.py:465: UserWarning: X does not have valid feature names, but LogisticRegression was fitted with feature names\n",
      "  warnings.warn(\n"
     ]
    }
   ],
   "source": [
    "import pandas as pd\n",
    "from sklearn.linear_model import LogisticRegression\n",
    "from datetime import datetime, timedelta\n",
    "\n",
    "# Load the dataset from CSV file\n",
    "data = pd.read_csv('TIMESERIESFORECASTING.csv')  # Replace 'your_dataset.csv' with the actual file name\n",
    "\n",
    "# Prepare the data\n",
    "X = data[['Advertising Spend', 'Temperature', 'Holiday']]\n",
    "y = data['Sales']  # Assuming 'Sales' is a binary outcome (1: increase, 0: decrease)\n",
    "\n",
    "# Initialize and fit the logistic regression model\n",
    "model = LogisticRegression()\n",
    "model.fit(X, y)\n",
    "\n",
    "# Predict future sales for the next 5 days\n",
    "next_days = data['Date']\n",
    "predicted_sales = []\n",
    "for day in next_days:\n",
    "    # Use example values for advertising spend, temperature, and holiday for prediction\n",
    "    next_day_features = [[100, 23, 0]]  # Example values for advertising spend, temperature, and holiday\n",
    "    predicted_sale = model.predict(next_day_features)[0]\n",
    "    predicted_sales.append(predicted_sale)\n",
    "\n",
    "# Print predicted sales for the next 5 days\n",
    "for day, sale in zip(next_days, predicted_sales):\n",
    "    print(f\"Predicted sales for {day}: {'Increase' if sale else 'Decrease'}\")\n"
   ]
  },
  {
   "cell_type": "code",
   "execution_count": null,
   "metadata": {},
   "outputs": [],
   "source": []
  }
 ],
 "metadata": {
  "kernelspec": {
   "display_name": "venv",
   "language": "python",
   "name": "python3"
  },
  "language_info": {
   "codemirror_mode": {
    "name": "ipython",
    "version": 3
   },
   "file_extension": ".py",
   "mimetype": "text/x-python",
   "name": "python",
   "nbconvert_exporter": "python",
   "pygments_lexer": "ipython3",
   "version": "3.11.9"
  }
 },
 "nbformat": 4,
 "nbformat_minor": 2
}

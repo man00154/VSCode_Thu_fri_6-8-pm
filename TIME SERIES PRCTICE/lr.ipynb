{
 "cells": [
  {
   "cell_type": "code",
   "execution_count": 1,
   "metadata": {},
   "outputs": [
    {
     "name": "stdout",
     "output_type": "stream",
     "text": [
      "Forecasted Sales for the Next 5 Days:\n",
      "        Date  Sales Forecast\n",
      "0 2023-01-11      162.689329\n",
      "1 2023-01-12      170.033133\n",
      "2 2023-01-13      175.076592\n",
      "3 2023-01-14      184.337349\n",
      "4 2023-01-15      190.147590\n"
     ]
    }
   ],
   "source": [
    "import pandas as pd\n",
    "from sklearn.linear_model import LinearRegression\n",
    "\n",
    "# Load the dataset from CSV file\n",
    "data = pd.read_csv('TIMESERIESFORECASTING.csv')  # Replace 'your_dataset.csv' with the actual file name\n",
    "\n",
    "# Splitting features and target variable\n",
    "X = data[['Advertising Spend', 'Temperature', 'Holiday']]\n",
    "y = data['Sales']\n",
    "\n",
    "# Fit linear regression model\n",
    "model = LinearRegression()\n",
    "model.fit(X, y)\n",
    "\n",
    "# Predict sales for the next 5 days\n",
    "next_5_days = pd.date_range(start='2023-01-11', periods=5, freq='D')  # Assuming daily frequency\n",
    "next_5_days_features = pd.DataFrame({\n",
    "    'Advertising Spend': [100, 105, 110, 115, 120],  # Placeholder values for advertising spend\n",
    "    'Temperature': [24.5, 24.7, 24.3, 25.0, 24.8],     # Placeholder values for temperature\n",
    "    'Holiday': [0, 0, 0, 0, 0]                         # Placeholder values for holiday\n",
    "})\n",
    "\n",
    "# Predict sales for the next 5 days\n",
    "next_5_days_sales = model.predict(next_5_days_features)\n",
    "\n",
    "# Create a DataFrame to display results\n",
    "forecast_df = pd.DataFrame({\n",
    "    'Date': next_5_days,\n",
    "    'Sales Forecast': next_5_days_sales\n",
    "})\n",
    "\n",
    "# Print the forecasted sales for the next 5 days\n",
    "print(\"Forecasted Sales for the Next 5 Days:\")\n",
    "print(forecast_df)\n"
   ]
  },
  {
   "cell_type": "code",
   "execution_count": null,
   "metadata": {},
   "outputs": [],
   "source": []
  }
 ],
 "metadata": {
  "kernelspec": {
   "display_name": "venv",
   "language": "python",
   "name": "python3"
  },
  "language_info": {
   "codemirror_mode": {
    "name": "ipython",
    "version": 3
   },
   "file_extension": ".py",
   "mimetype": "text/x-python",
   "name": "python",
   "nbconvert_exporter": "python",
   "pygments_lexer": "ipython3",
   "version": "3.11.9"
  }
 },
 "nbformat": 4,
 "nbformat_minor": 2
}

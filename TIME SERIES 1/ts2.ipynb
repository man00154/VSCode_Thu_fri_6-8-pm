{
 "cells": [
  {
   "cell_type": "code",
   "execution_count": 2,
   "metadata": {},
   "outputs": [],
   "source": [
    "import pandas as pd\n",
    "from sklearn.model_selection import TimeSeriesSplit\n",
    "from sklearn.metrics import accuracy_score, mean_squared_error, silhouette_score\n",
    "from sklearn.linear_model import LinearRegression, LogisticRegression, Lasso, Ridge\n",
    "from sklearn.tree import DecisionTreeClassifier, DecisionTreeRegressor\n",
    "from sklearn.ensemble import RandomForestClassifier, RandomForestRegressor, GradientBoostingClassifier, GradientBoostingRegressor\n",
    "from sklearn.svm import SVC, SVR\n",
    "from sklearn.neighbors import KNeighborsClassifier, KNeighborsRegressor\n",
    "from sklearn.cluster import KMeans, AgglomerativeClustering"
   ]
  },
  {
   "cell_type": "code",
   "execution_count": 13,
   "metadata": {},
   "outputs": [],
   "source": [
    "# Generating a sample dataset with time series features\n",
    "def load_data():\n",
    "    # Example data loading (replace with your actual data loading code)\n",
    "    data = pd.read_csv('infy_stock.csv')\n",
    "    return data"
   ]
  },
  {
   "cell_type": "code",
   "execution_count": 14,
   "metadata": {},
   "outputs": [
    {
     "data": {
      "text/html": [
       "<div>\n",
       "<style scoped>\n",
       "    .dataframe tbody tr th:only-of-type {\n",
       "        vertical-align: middle;\n",
       "    }\n",
       "\n",
       "    .dataframe tbody tr th {\n",
       "        vertical-align: top;\n",
       "    }\n",
       "\n",
       "    .dataframe thead th {\n",
       "        text-align: right;\n",
       "    }\n",
       "</style>\n",
       "<table border=\"1\" class=\"dataframe\">\n",
       "  <thead>\n",
       "    <tr style=\"text-align: right;\">\n",
       "      <th></th>\n",
       "      <th>Time</th>\n",
       "      <th>Feature_1</th>\n",
       "      <th>Feature_2</th>\n",
       "      <th>Feature_3</th>\n",
       "      <th>Feature_4</th>\n",
       "      <th>Feature_5</th>\n",
       "      <th>Target</th>\n",
       "    </tr>\n",
       "  </thead>\n",
       "  <tbody>\n",
       "    <tr>\n",
       "      <th>0</th>\n",
       "      <td>2022-01-01</td>\n",
       "      <td>0.746088</td>\n",
       "      <td>0.298119</td>\n",
       "      <td>0.061347</td>\n",
       "      <td>0.343942</td>\n",
       "      <td>0.262003</td>\n",
       "      <td>0</td>\n",
       "    </tr>\n",
       "    <tr>\n",
       "      <th>1</th>\n",
       "      <td>2022-01-02</td>\n",
       "      <td>0.055956</td>\n",
       "      <td>0.382399</td>\n",
       "      <td>0.915046</td>\n",
       "      <td>0.237196</td>\n",
       "      <td>0.084474</td>\n",
       "      <td>1</td>\n",
       "    </tr>\n",
       "    <tr>\n",
       "      <th>2</th>\n",
       "      <td>2022-01-03</td>\n",
       "      <td>0.564118</td>\n",
       "      <td>0.782260</td>\n",
       "      <td>0.655349</td>\n",
       "      <td>0.892499</td>\n",
       "      <td>0.891613</td>\n",
       "      <td>0</td>\n",
       "    </tr>\n",
       "    <tr>\n",
       "      <th>3</th>\n",
       "      <td>2022-01-04</td>\n",
       "      <td>0.394585</td>\n",
       "      <td>0.747086</td>\n",
       "      <td>0.961134</td>\n",
       "      <td>0.844192</td>\n",
       "      <td>0.230923</td>\n",
       "      <td>0</td>\n",
       "    </tr>\n",
       "    <tr>\n",
       "      <th>4</th>\n",
       "      <td>2022-01-05</td>\n",
       "      <td>0.516099</td>\n",
       "      <td>0.324090</td>\n",
       "      <td>0.332467</td>\n",
       "      <td>0.323399</td>\n",
       "      <td>0.061485</td>\n",
       "      <td>0</td>\n",
       "    </tr>\n",
       "  </tbody>\n",
       "</table>\n",
       "</div>"
      ],
      "text/plain": [
       "         Time  Feature_1  Feature_2  Feature_3  Feature_4  Feature_5  Target\n",
       "0  2022-01-01   0.746088   0.298119   0.061347   0.343942   0.262003       0\n",
       "1  2022-01-02   0.055956   0.382399   0.915046   0.237196   0.084474       1\n",
       "2  2022-01-03   0.564118   0.782260   0.655349   0.892499   0.891613       0\n",
       "3  2022-01-04   0.394585   0.747086   0.961134   0.844192   0.230923       0\n",
       "4  2022-01-05   0.516099   0.324090   0.332467   0.323399   0.061485       0"
      ]
     },
     "execution_count": 14,
     "metadata": {},
     "output_type": "execute_result"
    }
   ],
   "source": [
    "data.head()"
   ]
  },
  {
   "cell_type": "code",
   "execution_count": 15,
   "metadata": {},
   "outputs": [],
   "source": [
    "X = data.drop(columns=['Time', 'Target'])\n",
    "y = data['Target']"
   ]
  },
  {
   "cell_type": "code",
   "execution_count": 16,
   "metadata": {},
   "outputs": [],
   "source": [
    "# Initialize time series cross-validator\n",
    "tscv = TimeSeriesSplit(n_splits=5)\n"
   ]
  },
  {
   "cell_type": "code",
   "execution_count": 17,
   "metadata": {},
   "outputs": [
    {
     "name": "stdout",
     "output_type": "stream",
     "text": [
      "Linear Regression: Average Score: nan\n",
      "Logistic Regression: Average Score: nan\n",
      "Lasso: Average Score: nan\n",
      "Ridge: Average Score: nan\n",
      "Decision Tree: Average Score: nan\n",
      "Random Forest: Average Score: nan\n",
      "Gradient Boosting: Average Score: nan\n",
      "SVM: Average Score: nan\n",
      "KNN: Average Score: nan\n",
      "K-Means: Average Score: nan\n",
      "Hierarchical: Average Score: nan\n",
      "\n",
      "Best Model: None\n",
      "Best Model Average Score: inf\n"
     ]
    },
    {
     "name": "stderr",
     "output_type": "stream",
     "text": [
      "c:\\Users\\Ashutosh\\Downloads\\Wakad Thu Fri 6 8\\repository\\venv\\Lib\\site-packages\\numpy\\core\\fromnumeric.py:3504: RuntimeWarning: Mean of empty slice.\n",
      "  return _methods._mean(a, axis=axis, dtype=dtype,\n",
      "c:\\Users\\Ashutosh\\Downloads\\Wakad Thu Fri 6 8\\repository\\venv\\Lib\\site-packages\\numpy\\core\\_methods.py:129: RuntimeWarning: invalid value encountered in scalar divide\n",
      "  ret = ret.dtype.type(ret / rcount)\n"
     ]
    }
   ],
   "source": [
    "# Define models\n",
    "models = {\n",
    "    \"Linear Regression\": LinearRegression(),\n",
    "    \"Logistic Regression\": LogisticRegression(),\n",
    "    \"Lasso\": Lasso(),\n",
    "    \"Ridge\": Ridge(),\n",
    "    \"Decision Tree\": DecisionTreeRegressor(),\n",
    "    \"Random Forest\": RandomForestRegressor(),\n",
    "    \"Gradient Boosting\": GradientBoostingRegressor(),\n",
    "    \"SVM\": SVR(),\n",
    "    \"KNN\": KNeighborsRegressor(),\n",
    "    \"K-Means\": KMeans(),\n",
    "    \"Hierarchical\": AgglomerativeClustering()\n",
    "}\n",
    "\n",
    "# Initialize variables to store best model and its score\n",
    "best_model = None\n",
    "best_score = float('inf')  # For regression models, lower is better\n",
    "\n",
    "# Model Training and Evaluation Loop\n",
    "for name, model in models.items():\n",
    "    scores = []\n",
    "    for train_index, test_index in tscv.split(X):\n",
    "        X_train_cv, X_test_cv = X.iloc[train_index], X.iloc[test_index]\n",
    "        y_train_cv, y_test_cv = y.iloc[train_index], y.iloc[test_index]\n",
    "\n",
    "        if \"Regressor\" in name:  # Regression models\n",
    "            model.fit(X_train_cv, y_train_cv)\n",
    "            y_pred_cv = model.predict(X_test_cv)\n",
    "            score = mean_squared_error(y_test_cv, y_pred_cv)\n",
    "            scores.append(score)\n",
    "        elif \"Classifier\" in name:  # Classification models\n",
    "            model.fit(X_train_cv, y_train_cv)\n",
    "            y_pred_cv = model.predict(X_test_cv)\n",
    "            score = accuracy_score(y_test_cv, y_pred_cv)\n",
    "            scores.append(score)\n",
    "       # elif \"K-Means\" in name or \"Hierarchical\" in name:  # Clustering models\n",
    "            #model.fit(X_train_cv)\n",
    "            #score = silhouette_score(X_test_cv)\n",
    "            #scores.append(score)\n",
    "\n",
    "    avg_score = np.mean(scores)\n",
    "    print(f\"{name}: Average Score: {avg_score}\")\n",
    "\n",
    "    if avg_score < best_score:  # For regression models, lower is better\n",
    "        best_score = avg_score\n",
    "        best_model = name\n",
    "\n",
    "# Selecting the Best Model\n",
    "print(\"\\nBest Model:\", best_model)\n",
    "print(\"Best Model Average Score:\", best_score)"
   ]
  },
  {
   "cell_type": "code",
   "execution_count": null,
   "metadata": {},
   "outputs": [],
   "source": []
  }
 ],
 "metadata": {
  "kernelspec": {
   "display_name": "venv",
   "language": "python",
   "name": "python3"
  },
  "language_info": {
   "codemirror_mode": {
    "name": "ipython",
    "version": 3
   },
   "file_extension": ".py",
   "mimetype": "text/x-python",
   "name": "python",
   "nbconvert_exporter": "python",
   "pygments_lexer": "ipython3",
   "version": "3.11.9"
  }
 },
 "nbformat": 4,
 "nbformat_minor": 2
}
